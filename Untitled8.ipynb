{
 "cells": [
  {
   "cell_type": "code",
   "execution_count": null,
   "id": "c6edd912-21be-45a9-acf2-c10e7f3b71ff",
   "metadata": {},
   "outputs": [],
   "source": [
    "import numpy as np\n",
    "\n",
    "# Création d'un tableau de données (100, 3) avec des valeurs aléatoires\n",
    "data = np.random.randn(100, 3)  # 100 observations, 3 variables\n",
    "\n",
    "# Calcul de la matrice de covariance\n",
    "cov_matrix = np.cov(data, rowvar=False)  # rowvar=False indique que les variables sont en colonnes\n",
    "\n",
    "print(\"Matrice de covariance (3x3):\")\n",
    "print(cov_matrix)"
   ]
  },
  {
   "cell_type": "code",
   "execution_count": null,
   "id": "d95fe2fe-2867-4326-8b3b-1879d5d259d8",
   "metadata": {},
   "outputs": [],
   "source": [
    "import numpy as np\n",
    "import matplotlib.pyplot as plt\n",
    "\n",
    "# Paramètres du signal\n",
    "freq = 5  # Fréquence en Hz\n",
    "amplitude = 1\n",
    "duree = 1  # seconde\n",
    "taux_echantillonnage = 1000  # points par seconde\n",
    "\n",
    "# Création du signal sinusoïdal\n",
    "t = np.linspace(0, duree, duree * taux_echantillonnage, endpoint=False)\n",
    "signal = ampliude * np.sin(2 * np.pi * freq * t)\n",
    "\n",
    "# Transformation de Fourier\n",
    "fft_result = np.fft.fft(signal)\n",
    "frequences = np.fft.fftfreq(len(signal), 1/taux_echantillonnage)\n",
    "\n",
    "# Affichage du spectre de fréquences\n",
    "plt.figure(figsize=(10, 4))\n",
    "plt.plot(frequences[:len(frequences)//2], np.abs(fft_result[:len(fft_result)//2]))\n",
    "plt.title(\"Spectre de fréquences\")\n",
    "plt.xlabel(\"Fréquence (Hz)\")\n",
    "plt.ylabel(\"Amplitude\")\n",
    "plt.grid()\n",
    "plt.show()"
   ]
  },
  {
   "cell_type": "code",
   "execution_count": null,
   "id": "aad792aa-7d18-47c9-9d48-8912bd355c16",
   "metadata": {},
   "outputs": [],
   "source": [
    "import numpy as np\n",
    "import matplotlib.pyplot as plt\n",
    "\n",
    "# Simulation de 1000 lancers de deux dés\n",
    "de1 = np.random.randint(1, 7, size=1000)\n",
    "de2 = np.random.randint(1, 7, size=1000)\n",
    "sommes = de1 + de2\n",
    "\n",
    "# Affichage de l'histogramme\n",
    "plt.figure(figsize=(8, 4))\n",
    "plt.hist(sommes, bins=range(2, 14), align='left', rwidth=0.8, edgecolor='black')\n",
    "plt.title(\"Histogramme des sommes de deux dés (1000 lancers)\")\n",
    "plt.xlabel(\"Somme des dés\")\n",
    "plt.ylabel(\"Nombre d'occurrences\")\n",
    "plt.xticks(range(2, 13))\n",
    "plt.grid(axis='y', alpha=0.5)\n",
    "plt.show()\n"
   ]
  }
 ],
 "metadata": {
  "kernelspec": {
   "display_name": "Python 3 (ipykernel)",
   "language": "python",
   "name": "python3"
  },
  "language_info": {
   "codemirror_mode": {
    "name": "ipython",
    "version": 3
   },
   "file_extension": ".py",
   "mimetype": "text/x-python",
   "name": "python",
   "nbconvert_exporter": "python",
   "pygments_lexer": "ipython3",
   "version": "3.12.7"
  }
 },
 "nbformat": 4,
 "nbformat_minor": 5
}
